{
 "cells": [
  {
   "cell_type": "markdown",
   "id": "b811fbcd",
   "metadata": {
    "cellId": "gky3wlwhdu3nr5l7iovws",
    "execution_id": "82a2e250-8873-4eb7-98d0-c0cc5c8ed221"
   },
   "source": [
    "# Baseline classification notebook\n",
    "\n",
    "Here we provide baseline notebook for Baikal zooplankton classification with metric learning.\n",
    "Notebook consists of following parts:\n",
    "* Initialization - installation of packets, import\n",
    "* Data fetch\n",
    "* Setup Datasets\n",
    "* Setup model\n",
    "* Setup loss function, optimizer, etc\n",
    "* Train model\n",
    "* Save model\n",
    "* Sample inference\n"
   ]
  },
  {
   "cell_type": "markdown",
   "id": "fef2b36d",
   "metadata": {
    "cellId": "4466ydolwsmw03pjmqk4h9",
    "execution_id": "4df4e8bc-7b13-47bc-a2a5-8fa76585ca4d"
   },
   "source": [
    "## Initialization"
   ]
  },
  {
   "cell_type": "markdown",
   "id": "69292e02",
   "metadata": {
    "cellId": "6hvc7iy04h285ex4bd3jos",
    "execution_id": "fb26fc03-cdde-4a40-915a-41a7cf8a073a"
   },
   "source": [
    "### Installation of dependency packets"
   ]
  },
  {
   "cell_type": "code",
   "execution_count": 95,
   "id": "c511a523",
   "metadata": {
    "cellId": "h0fkaqya7v6h33lv42h8v"
   },
   "outputs": [
    {
     "name": "stdout",
     "output_type": "stream",
     "text": [
      "Defaulting to user installation because normal site-packages is not writeable\n",
      "Requirement already satisfied: pytorch-metric-learning[with-hooks] in /home/jupyter/.local/lib/python3.8/site-packages (1.6.3)\n",
      "Requirement already satisfied: torchvision in /usr/local/lib/python3.8/dist-packages (from pytorch-metric-learning[with-hooks]) (0.10.1+cu111)\n",
      "Requirement already satisfied: scikit-learn in /usr/local/lib/python3.8/dist-packages (from pytorch-metric-learning[with-hooks]) (0.22.1)\n",
      "Requirement already satisfied: torch>=1.6.0 in /home/jupyter/.local/lib/python3.8/site-packages (from pytorch-metric-learning[with-hooks]) (1.9.1)\n",
      "Requirement already satisfied: numpy in /home/jupyter/.local/lib/python3.8/site-packages (from pytorch-metric-learning[with-hooks]) (1.23.5)\n",
      "Requirement already satisfied: tqdm in /usr/local/lib/python3.8/dist-packages (from pytorch-metric-learning[with-hooks]) (4.50.0)\n",
      "Requirement already satisfied: faiss-gpu>=1.6.3 in /home/jupyter/.local/lib/python3.8/site-packages (from pytorch-metric-learning[with-hooks]) (1.7.2)\n",
      "Requirement already satisfied: record-keeper>=0.9.32 in /home/jupyter/.local/lib/python3.8/site-packages (from pytorch-metric-learning[with-hooks]) (0.9.32)\n",
      "Requirement already satisfied: tensorboard in /usr/local/lib/python3.8/dist-packages (from pytorch-metric-learning[with-hooks]) (2.6.0)\n",
      "Requirement already satisfied: typing-extensions in /usr/local/lib/python3.8/dist-packages (from torch>=1.6.0->pytorch-metric-learning[with-hooks]) (3.7.4.3)\n",
      "Requirement already satisfied: scipy>=0.17.0 in /usr/local/lib/python3.8/dist-packages (from scikit-learn->pytorch-metric-learning[with-hooks]) (1.4.1)\n",
      "Requirement already satisfied: joblib>=0.11 in /usr/local/lib/python3.8/dist-packages (from scikit-learn->pytorch-metric-learning[with-hooks]) (1.1.0)\n",
      "Requirement already satisfied: google-auth<2,>=1.6.3 in /usr/local/lib/python3.8/dist-packages (from tensorboard->pytorch-metric-learning[with-hooks]) (1.35.0)\n",
      "Requirement already satisfied: grpcio>=1.24.3 in /usr/local/lib/python3.8/dist-packages (from tensorboard->pytorch-metric-learning[with-hooks]) (1.43.0)\n",
      "Requirement already satisfied: wheel>=0.26 in /usr/local/lib/python3.8/dist-packages (from tensorboard->pytorch-metric-learning[with-hooks]) (0.37.1)\n",
      "Requirement already satisfied: tensorboard-plugin-wit>=1.6.0 in /usr/local/lib/python3.8/dist-packages (from tensorboard->pytorch-metric-learning[with-hooks]) (1.8.0)\n",
      "Requirement already satisfied: google-auth-oauthlib<0.5,>=0.4.1 in /usr/local/lib/python3.8/dist-packages (from tensorboard->pytorch-metric-learning[with-hooks]) (0.4.6)\n",
      "Requirement already satisfied: protobuf>=3.6.0 in /usr/local/lib/python3.8/dist-packages (from tensorboard->pytorch-metric-learning[with-hooks]) (3.19.1)\n",
      "Requirement already satisfied: werkzeug>=0.11.15 in /usr/local/lib/python3.8/dist-packages (from tensorboard->pytorch-metric-learning[with-hooks]) (2.0.2)\n",
      "Requirement already satisfied: setuptools>=41.0.0 in /kernel/lib/python3.8/site-packages (from tensorboard->pytorch-metric-learning[with-hooks]) (51.0.0)\n",
      "Requirement already satisfied: absl-py>=0.4 in /usr/local/lib/python3.8/dist-packages (from tensorboard->pytorch-metric-learning[with-hooks]) (0.12.0)\n",
      "Requirement already satisfied: tensorboard-data-server<0.7.0,>=0.6.0 in /usr/local/lib/python3.8/dist-packages (from tensorboard->pytorch-metric-learning[with-hooks]) (0.6.1)\n",
      "Requirement already satisfied: markdown>=2.6.8 in /usr/local/lib/python3.8/dist-packages (from tensorboard->pytorch-metric-learning[with-hooks]) (3.3.6)\n",
      "Requirement already satisfied: requests<3,>=2.21.0 in /kernel/lib/python3.8/site-packages (from tensorboard->pytorch-metric-learning[with-hooks]) (2.25.1)\n",
      "Requirement already satisfied: pillow>=5.3.0 in /kernel/lib/python3.8/site-packages (from torchvision->pytorch-metric-learning[with-hooks]) (9.3.0)\n",
      "Requirement already satisfied: six in /kernel/lib/python3.8/site-packages (from absl-py>=0.4->tensorboard->pytorch-metric-learning[with-hooks]) (1.16.0)\n",
      "Requirement already satisfied: rsa<5,>=3.1.4 in /usr/local/lib/python3.8/dist-packages (from google-auth<2,>=1.6.3->tensorboard->pytorch-metric-learning[with-hooks]) (4.8)\n",
      "Requirement already satisfied: pyasn1-modules>=0.2.1 in /usr/local/lib/python3.8/dist-packages (from google-auth<2,>=1.6.3->tensorboard->pytorch-metric-learning[with-hooks]) (0.2.8)\n",
      "Requirement already satisfied: cachetools<5.0,>=2.0.0 in /usr/local/lib/python3.8/dist-packages (from google-auth<2,>=1.6.3->tensorboard->pytorch-metric-learning[with-hooks]) (4.2.4)\n",
      "Requirement already satisfied: requests-oauthlib>=0.7.0 in /usr/local/lib/python3.8/dist-packages (from google-auth-oauthlib<0.5,>=0.4.1->tensorboard->pytorch-metric-learning[with-hooks]) (1.3.0)\n",
      "Requirement already satisfied: importlib-metadata>=4.4 in /kernel/lib/python3.8/site-packages (from markdown>=2.6.8->tensorboard->pytorch-metric-learning[with-hooks]) (5.0.0)\n",
      "Requirement already satisfied: idna<3,>=2.5 in /kernel/lib/python3.8/site-packages (from requests<3,>=2.21.0->tensorboard->pytorch-metric-learning[with-hooks]) (2.10)\n",
      "Requirement already satisfied: certifi>=2017.4.17 in /kernel/lib/python3.8/site-packages (from requests<3,>=2.21.0->tensorboard->pytorch-metric-learning[with-hooks]) (2022.9.24)\n",
      "Requirement already satisfied: urllib3<1.27,>=1.21.1 in /kernel/lib/python3.8/site-packages (from requests<3,>=2.21.0->tensorboard->pytorch-metric-learning[with-hooks]) (1.26.12)\n",
      "Requirement already satisfied: chardet<5,>=3.0.2 in /kernel/lib/python3.8/site-packages (from requests<3,>=2.21.0->tensorboard->pytorch-metric-learning[with-hooks]) (4.0.0)\n",
      "Requirement already satisfied: zipp>=0.5 in /kernel/lib/python3.8/site-packages (from importlib-metadata>=4.4->markdown>=2.6.8->tensorboard->pytorch-metric-learning[with-hooks]) (3.10.0)\n",
      "Requirement already satisfied: pyasn1<0.5.0,>=0.4.6 in /usr/local/lib/python3.8/dist-packages (from pyasn1-modules>=0.2.1->google-auth<2,>=1.6.3->tensorboard->pytorch-metric-learning[with-hooks]) (0.4.8)\n",
      "Requirement already satisfied: oauthlib>=3.0.0 in /usr/local/lib/python3.8/dist-packages (from requests-oauthlib>=0.7.0->google-auth-oauthlib<0.5,>=0.4.1->tensorboard->pytorch-metric-learning[with-hooks]) (3.1.1)\n",
      "\u001b[33mWARNING: You are using pip version 21.3.1; however, version 22.3.1 is available.\n",
      "You should consider upgrading via the '/usr/local/bin/python3 -m pip install --upgrade pip' command.\u001b[0m\n",
      "Defaulting to user installation because normal site-packages is not writeable\n",
      "Requirement already satisfied: umap-learn in /home/jupyter/.local/lib/python3.8/site-packages (0.5.3)\n",
      "Requirement already satisfied: pynndescent>=0.5 in /home/jupyter/.local/lib/python3.8/site-packages (from umap-learn) (0.5.8)\n",
      "Requirement already satisfied: scipy>=1.0 in /usr/local/lib/python3.8/dist-packages (from umap-learn) (1.4.1)\n",
      "Requirement already satisfied: tqdm in /usr/local/lib/python3.8/dist-packages (from umap-learn) (4.50.0)\n",
      "Requirement already satisfied: numba>=0.49 in /usr/local/lib/python3.8/dist-packages (from umap-learn) (0.51.2)\n",
      "Requirement already satisfied: numpy>=1.17 in /home/jupyter/.local/lib/python3.8/site-packages (from umap-learn) (1.23.5)\n",
      "Requirement already satisfied: scikit-learn>=0.22 in /usr/local/lib/python3.8/dist-packages (from umap-learn) (0.22.1)\n",
      "Requirement already satisfied: llvmlite<0.35,>=0.34.0.dev0 in /usr/local/lib/python3.8/dist-packages (from numba>=0.49->umap-learn) (0.34.0)\n",
      "Requirement already satisfied: setuptools in /kernel/lib/python3.8/site-packages (from numba>=0.49->umap-learn) (51.0.0)\n",
      "Requirement already satisfied: joblib>=0.11 in /usr/local/lib/python3.8/dist-packages (from pynndescent>=0.5->umap-learn) (1.1.0)\n",
      "\u001b[33mWARNING: You are using pip version 21.3.1; however, version 22.3.1 is available.\n",
      "You should consider upgrading via the '/usr/local/bin/python3 -m pip install --upgrade pip' command.\u001b[0m\n",
      "Defaulting to user installation because normal site-packages is not writeable\n",
      "Requirement already satisfied: hdbscan in /home/jupyter/.local/lib/python3.8/site-packages (0.8.29)\n",
      "Requirement already satisfied: cython>=0.27 in /kernel/lib/python3.8/site-packages (from hdbscan) (0.29.26)\n",
      "Requirement already satisfied: joblib>=1.0 in /usr/local/lib/python3.8/dist-packages (from hdbscan) (1.1.0)\n",
      "Requirement already satisfied: scipy>=1.0 in /usr/local/lib/python3.8/dist-packages (from hdbscan) (1.4.1)\n",
      "Requirement already satisfied: numpy>=1.20 in /home/jupyter/.local/lib/python3.8/site-packages (from hdbscan) (1.23.5)\n",
      "Requirement already satisfied: scikit-learn>=0.20 in /usr/local/lib/python3.8/dist-packages (from hdbscan) (0.22.1)\n",
      "\u001b[33mWARNING: You are using pip version 21.3.1; however, version 22.3.1 is available.\n",
      "You should consider upgrading via the '/usr/local/bin/python3 -m pip install --upgrade pip' command.\u001b[0m\n",
      "Defaulting to user installation because normal site-packages is not writeable\n",
      "Collecting torch-lr-finder\n",
      "  Downloading torch_lr_finder-0.2.1-py3-none-any.whl (11 kB)\n",
      "Requirement already satisfied: matplotlib in /kernel/lib/python3.8/site-packages (from torch-lr-finder) (3.3.3)\n",
      "Requirement already satisfied: numpy in /home/jupyter/.local/lib/python3.8/site-packages (from torch-lr-finder) (1.23.5)\n",
      "Requirement already satisfied: torch>=0.4.1 in /home/jupyter/.local/lib/python3.8/site-packages (from torch-lr-finder) (1.9.1)\n",
      "Requirement already satisfied: tqdm in /usr/local/lib/python3.8/dist-packages (from torch-lr-finder) (4.50.0)\n",
      "Requirement already satisfied: packaging in /kernel/lib/python3.8/site-packages (from torch-lr-finder) (20.9)\n",
      "Requirement already satisfied: typing-extensions in /usr/local/lib/python3.8/dist-packages (from torch>=0.4.1->torch-lr-finder) (3.7.4.3)\n",
      "Requirement already satisfied: pillow>=6.2.0 in /kernel/lib/python3.8/site-packages (from matplotlib->torch-lr-finder) (9.3.0)\n",
      "Requirement already satisfied: cycler>=0.10 in /kernel/lib/python3.8/site-packages (from matplotlib->torch-lr-finder) (0.11.0)\n",
      "Requirement already satisfied: pyparsing!=2.0.4,!=2.1.2,!=2.1.6,>=2.0.3 in /kernel/lib/python3.8/site-packages (from matplotlib->torch-lr-finder) (2.4.7)\n",
      "Requirement already satisfied: python-dateutil>=2.1 in /kernel/lib/python3.8/site-packages (from matplotlib->torch-lr-finder) (2.8.2)\n",
      "Requirement already satisfied: kiwisolver>=1.0.1 in /kernel/lib/python3.8/site-packages (from matplotlib->torch-lr-finder) (1.4.4)\n",
      "Requirement already satisfied: six>=1.5 in /kernel/lib/python3.8/site-packages (from python-dateutil>=2.1->matplotlib->torch-lr-finder) (1.16.0)\n",
      "Installing collected packages: torch-lr-finder\n",
      "Successfully installed torch-lr-finder-0.2.1\n",
      "\u001b[33mWARNING: You are using pip version 21.3.1; however, version 22.3.1 is available.\n",
      "You should consider upgrading via the '/usr/local/bin/python3 -m pip install --upgrade pip' command.\u001b[0m\n"
     ]
    }
   ],
   "source": [
    "%pip install pytorch-metric-learning[with-hooks]\n",
    "%pip install torch-lr-finder"
   ]
  },
  {
   "cell_type": "markdown",
   "id": "1b3780c2",
   "metadata": {
    "cellId": "azdtp12svqe0yzzcprbqr5c",
    "execution_id": "1efe0b70-2ce6-4d18-9671-099dd2cecda4"
   },
   "source": [
    "## Imports section"
   ]
  },
  {
   "cell_type": "markdown",
   "id": "e828a4fb",
   "metadata": {
    "cellId": "olxg1tdiqslsa0z6frtuui",
    "execution_id": "a9e4790f-8b34-48f8-8c5a-4eb522d4c14b"
   },
   "source": [
    "#### Common"
   ]
  },
  {
   "cell_type": "code",
   "execution_count": 49,
   "id": "3abb891f",
   "metadata": {
    "cellId": "tsoz79hpe2bt2jrj4tvtq9"
   },
   "outputs": [],
   "source": [
    "import io\n",
    "import json\n",
    "from pathlib import Path\n",
    "import requests\n",
    "import shutil"
   ]
  },
  {
   "cell_type": "markdown",
   "id": "6d438c89",
   "metadata": {
    "cellId": "64bh1u7pvdwr4a44uzfutj",
    "execution_id": "a5bd9be1-239f-49e6-9abf-1af534ccaed5"
   },
   "source": [
    "#### Computation and data representation-related imports"
   ]
  },
  {
   "cell_type": "code",
   "execution_count": 50,
   "id": "95e6fa8e",
   "metadata": {
    "cellId": "le7gmgbo32eh0io5r4ou18"
   },
   "outputs": [],
   "source": [
    "import numpy as np\n",
    "import matplotlib.pyplot as plt\n",
    "%matplotlib inline\n",
    "\n",
    "from sklearn.model_selection import train_test_split"
   ]
  },
  {
   "cell_type": "markdown",
   "id": "40a9373e",
   "metadata": {
    "cellId": "jml87zsljqh7t13j5ry8ff",
    "execution_id": "7029b421-3ccd-481c-93a0-21ce2e56360a"
   },
   "source": [
    "#### Here we import pytorch and pytorch-metric-learning"
   ]
  },
  {
   "cell_type": "code",
   "execution_count": 96,
   "id": "ef1d29b7",
   "metadata": {
    "cellId": "uyaqf3riooqum7yq6omnb"
   },
   "outputs": [],
   "source": [
    "import torch\n",
    "import torch.nn as nn\n",
    "import torch.nn.functional as F\n",
    "import torch.optim as optim\n",
    "\n",
    "from torchvision import datasets, transforms\n",
    "from torchvision import models\n",
    "from torchvision.datasets import ImageFolder\n",
    "\n",
    "import pytorch_metric_learning\n",
    "from pytorch_metric_learning import losses, miners, samplers, testers, trainers, distances, reducers\n",
    "\n",
    "from pytorch_metric_learning.utils import common_functions\n",
    "import pytorch_metric_learning.utils.logging_presets as logging_presets\n",
    "from pytorch_metric_learning.utils.accuracy_calculator import AccuracyCalculator\n",
    "\n",
    "from torch_lr_finder import LRFinder # for optimal learning rate"
   ]
  },
  {
   "cell_type": "markdown",
   "id": "aa549be3",
   "metadata": {
    "cellId": "1h90678md6ms6431wp0k8g",
    "execution_id": "a17b4778-98ec-4d1f-8ada-9250c7947e1b"
   },
   "source": [
    "####  KNN, metrics and outlier related packets"
   ]
  },
  {
   "cell_type": "code",
   "execution_count": 52,
   "id": "198cc56e",
   "metadata": {
    "cellId": "voixkr8nl9sm06xe0mntbn"
   },
   "outputs": [],
   "source": [
    "from hdbscan import HDBSCAN\n",
    "from sklearn.neighbors import LocalOutlierFactor\n",
    "from sklearn.svm import OneClassSVM\n",
    "from sklearn.ensemble import IsolationForest"
   ]
  },
  {
   "cell_type": "markdown",
   "id": "3357e189",
   "metadata": {
    "cellId": "v22my06w0lqo85o4mluc8",
    "execution_id": "7fe37234-58f7-408c-86fd-a49fe9a0b3c4"
   },
   "source": [
    "#### Logging"
   ]
  },
  {
   "cell_type": "code",
   "execution_count": 53,
   "id": "fc22fa24",
   "metadata": {
    "cellId": "mt0vxy0f9ye6sd12ia4o3i"
   },
   "outputs": [
    {
     "name": "stderr",
     "output_type": "stream",
     "text": [
      "INFO:root:VERSION 1.6.3\n"
     ]
    }
   ],
   "source": [
    "import logging\n",
    "logging.getLogger().setLevel(logging.INFO)\n",
    "logging.info(\"VERSION %s\" % pytorch_metric_learning.__version__)"
   ]
  },
  {
   "cell_type": "markdown",
   "id": "4ba59f0e",
   "metadata": {
    "cellId": "0v54tcdq379b8tfjgu35x6",
    "execution_id": "5074363c-295a-4b36-9d86-c793758f6a7f"
   },
   "source": [
    "#### Setup folder structure\n",
    "\n",
    "\n",
    "We want to place everything under `data` directory.\n",
    "* `train` is train part of dataset\n",
    "* `test` is validatiion part\n",
    "* `tmp` is temp directory for operations"
   ]
  },
  {
   "cell_type": "code",
   "execution_count": 54,
   "id": "2bd08e43",
   "metadata": {
    "cellId": "r4l7or7644ny6vcy9074n"
   },
   "outputs": [],
   "source": [
    "root_path = Path('.')\n",
    "\n",
    "data_path = root_path / 'data'\n",
    "tmp_path = data_path/ 'tmp'\n",
    "train_path = data_path / 'train'\n",
    "test_path = data_path / 'test'\n",
    "\n",
    "if not train_path.exists():\n",
    "    data_path.mkdir(parents=True, exist_ok=True)\n",
    "    tmp_path.mkdir(parents=True,exist_ok=True)\n",
    "    train_path.mkdir(parents=True,exist_ok=True)\n",
    "    test_path.mkdir(parents=True,exist_ok=True)"
   ]
  },
  {
   "cell_type": "markdown",
   "id": "e788bf70",
   "metadata": {
    "cellId": "l14zn143hhkjqqiz7ugqvo",
    "execution_id": "991fa24f-6683-4e11-9dc0-31f6f18b6cbf"
   },
   "source": [
    "## Fetch data"
   ]
  },
  {
   "cell_type": "markdown",
   "id": "cfbcd645",
   "metadata": {
    "cellId": "s3zdph2apn1u12t2bmm1n",
    "execution_id": "1c1af649-bfa3-4b52-a0ad-6b2822a23a86"
   },
   "source": [
    "From repository obtain file `data.json` and load it"
   ]
  },
  {
   "cell_type": "code",
   "execution_count": 55,
   "id": "823613f2",
   "metadata": {
    "cellId": "6tdqijsgtqo8sy06onbm8"
   },
   "outputs": [],
   "source": [
    "with open('data.json') as f:\n",
    "    data = json.load(f)"
   ]
  },
  {
   "cell_type": "markdown",
   "id": "206bb83f",
   "metadata": {
    "cellId": "6he44o24zmobgo876cayff",
    "execution_id": "f5fe3381-53dd-43cb-a434-cdfe3d05f75d"
   },
   "source": [
    "Remove `other` directory for now.\n",
    "\n",
    "We will train network on known-samples, `other` is a tag for dirt, fito-plankton and other objects not intended for recognition.\n",
    "\n",
    "But we can use `other` as test for outliers."
   ]
  },
  {
   "cell_type": "code",
   "execution_count": 56,
   "id": "42590023",
   "metadata": {
    "cellId": "iqr59n7etoichvofs7lgp"
   },
   "outputs": [],
   "source": [
    "objects = [item for item in data if item['category']!= 'other']"
   ]
  },
  {
   "cell_type": "code",
   "execution_count": 57,
   "id": "9185364a",
   "metadata": {
    "cellId": "5p34zffplm2w4t1vk9ebog"
   },
   "outputs": [],
   "source": [
    "objects_train, objects_test = train_test_split(objects, test_size=0.1)"
   ]
  },
  {
   "cell_type": "code",
   "execution_count": 58,
   "id": "ec9a15a1",
   "metadata": {
    "cellId": "dqruwrq216k83lihk8xly5"
   },
   "outputs": [
    {
     "name": "stdout",
     "output_type": "stream",
     "text": [
      "Amount of objects in train pool: 27364\n"
     ]
    }
   ],
   "source": [
    "print(f'Amount of objects in train pool: {len(objects_train)}')"
   ]
  },
  {
   "cell_type": "code",
   "execution_count": 59,
   "id": "b8b2e4ef",
   "metadata": {
    "cellId": "hbewd14yr2ndl0cnluw9"
   },
   "outputs": [
    {
     "name": "stdout",
     "output_type": "stream",
     "text": [
      "Amount of objects in test pool: 3041\n"
     ]
    }
   ],
   "source": [
    "print(f'Amount of objects in test pool: {len(objects_test)}')"
   ]
  },
  {
   "cell_type": "markdown",
   "id": "f01ed878",
   "metadata": {
    "cellId": "2ph2gdb2ptlj2lm98bp4hh",
    "execution_id": "56d65596-5dd0-4edb-a7ed-90a498beb31b"
   },
   "source": [
    "Helper to download files from public-available links:"
   ]
  },
  {
   "cell_type": "code",
   "execution_count": 60,
   "id": "62246669",
   "metadata": {
    "cellId": "fwtf8gzaa5l2mmbcllbmup"
   },
   "outputs": [],
   "source": [
    "\n",
    "def download_file(url, local_path):\n",
    "    if Path(local_path).exists():\n",
    "        return \n",
    "    with requests.get(url, stream=True) as r:\n",
    "        with open(local_path, 'wb') as f:\n",
    "            shutil.copyfileobj(r.raw, f)"
   ]
  },
  {
   "cell_type": "markdown",
   "id": "8294c2d4",
   "metadata": {
    "cellId": "39plzt47zkpxbprd1zgl0e",
    "execution_id": "430c55cc-461b-498c-b67b-001182a14137"
   },
   "source": [
    "Helper, that downloads big files with sample shots and cuts rectangles with objects inside. Then stores these objects in destination folder."
   ]
  },
  {
   "cell_type": "code",
   "execution_count": 61,
   "id": "d46578e5",
   "metadata": {
    "cellId": "0p1vnihbfv5da6ot3vom0hc"
   },
   "outputs": [],
   "source": [
    "def get_dataset_from_objects(source_objects_list, dst_dir):\n",
    "    cat_counts = {}\n",
    "    for obj in source_objects_list:\n",
    "        image_path = str(tmp_path/ 'img.jpg')\n",
    "        download_file(obj['image'], image_path)\n",
    "        big_img = Image.open(image_path)\n",
    "        left = 1\n",
    "        top=1\n",
    "        bottom=0\n",
    "        right=0\n",
    "        for pt in obj['points']:\n",
    "            left = min(pt['x'],left)\n",
    "            right = max(pt['x'], right)\n",
    "            top = min(pt['y'], top)\n",
    "            bottom = max(pt['y'], bottom)\n",
    "        left = int(left*big_img.width)\n",
    "        right = int(right*big_img.width)\n",
    "        top = int(top* big_img.height)\n",
    "        bottom = int(bottom* big_img.height)\n",
    "        (dst_dir / obj['category']).mkdir(parents=True, exist_ok=True)\n",
    "        if obj['category'] not in cat_counts:\n",
    "            cat_counts[obj['category']] = 1\n",
    "        else:\n",
    "            cat_counts[obj['category']] += 1\n",
    "\n",
    "        big_img.crop((left, top, right, bottom)).save(dst_dir /obj['category']/ f\"{cat_counts[obj['category']]}.jpg\")"
   ]
  },
  {
   "cell_type": "markdown",
   "id": "05c7c80e",
   "metadata": {
    "cellId": "u4tw9b7xlpdtmzlaz2jvi",
    "execution_id": "1139cca2-0aa6-4f6b-8e44-27bb1a675d61"
   },
   "source": [
    "#### Download dataset\n",
    "Both train and test"
   ]
  },
  {
   "cell_type": "code",
   "execution_count": 62,
   "id": "2ffb7858",
   "metadata": {
    "cellId": "j4kwwvalt0m8l6xlktr7y5"
   },
   "outputs": [],
   "source": [
    "#get_dataset_from_objects(objects_train,train_path)"
   ]
  },
  {
   "cell_type": "code",
   "execution_count": 63,
   "id": "b8948aed",
   "metadata": {
    "cellId": "uq6kvycw28ljaremmz8mc"
   },
   "outputs": [],
   "source": [
    "#get_dataset_from_objects(objects_test,test_path)"
   ]
  },
  {
   "cell_type": "markdown",
   "id": "5f3888ad",
   "metadata": {
    "cellId": "f6vad2gaji8w4eg9hkxya9",
    "execution_id": "53e4766e-475f-4689-b107-419a2dee9c79"
   },
   "source": [
    "Set number of classes"
   ]
  },
  {
   "cell_type": "code",
   "execution_count": 64,
   "id": "7deb7e95",
   "metadata": {
    "cellId": "9z2u3qt9jhvs8ogrk6sybq"
   },
   "outputs": [],
   "source": [
    "num_classes = len(set([item['category'] for item in data]))-1"
   ]
  },
  {
   "cell_type": "markdown",
   "id": "058f951d",
   "metadata": {
    "cellId": "1qontnh3bey7uwps4jjkk9",
    "execution_id": "7746a080-47a1-455a-aeee-be58902b6d9a"
   },
   "source": [
    "#### Define input image size"
   ]
  },
  {
   "cell_type": "code",
   "execution_count": 65,
   "id": "107247b8",
   "metadata": {
    "cellId": "qydpzocjg6itmi04vfkjra"
   },
   "outputs": [],
   "source": [
    "input_img_size = (224,224)"
   ]
  },
  {
   "cell_type": "markdown",
   "id": "03ec73eb",
   "metadata": {
    "cellId": "wmp918v7xyqffbjp2q1wk",
    "execution_id": "461470de-88e8-46ca-af95-a53dc571ec44"
   },
   "source": [
    "Define transforms for images"
   ]
  },
  {
   "cell_type": "code",
   "execution_count": 93,
   "id": "3a7791a6",
   "metadata": {
    "cellId": "56ffrglfcf3a77wt7l1fjo"
   },
   "outputs": [],
   "source": [
    "train_transform = transforms.Compose(\n",
    "    [\n",
    "        transforms.Resize(input_img_size),\n",
    "        transforms.RandomHorizontalFlip(0.5),\n",
    "        transforms.RandomVerticalFlip(0.5),\n",
    "     #   transforms.RandomAutocontrast(),\n",
    "        transforms.ToTensor(),\n",
    "        transforms.Normalize(mean=[0.485, 0.456, 0.406], std=[0.229, 0.224, 0.225]),\n",
    "    ]\n",
    ")\n",
    "\n",
    "test_transform = transforms.Compose(\n",
    "    [\n",
    "        transforms.Resize(input_img_size),\n",
    "        transforms.ToTensor(),\n",
    "        transforms.Normalize(mean=[0.485, 0.456, 0.406], std=[0.229, 0.224, 0.225]),\n",
    "    ]\n",
    ")"
   ]
  },
  {
   "cell_type": "code",
   "execution_count": 94,
   "id": "c67201df",
   "metadata": {
    "cellId": "mis3nt5zv5jdyjsl2k1cu8"
   },
   "outputs": [],
   "source": [
    "train_set = ImageFolder(str(train_path), transform=train_transform)"
   ]
  },
  {
   "cell_type": "code",
   "execution_count": 68,
   "id": "4f9cf4a6",
   "metadata": {
    "cellId": "pmx0qteqw3sqz8vekvrryb"
   },
   "outputs": [],
   "source": [
    "test_set = ImageFolder(str(test_path), transform=test_transform)"
   ]
  },
  {
   "cell_type": "markdown",
   "id": "4d7b3ae2",
   "metadata": {
    "cellId": "8lp79r0o0g4vbk6xksd13",
    "execution_id": "3f125f62-bb2d-4088-8a5d-334314a3a9e3"
   },
   "source": [
    "Here we declare torch device. We are using Yandex.Cloud environment with 1xV100 Tesla GPU."
   ]
  },
  {
   "cell_type": "code",
   "execution_count": 70,
   "id": "950010b0",
   "metadata": {
    "cellId": "df67f8vt1k4gnlfj21y42"
   },
   "outputs": [
    {
     "name": "stdout",
     "output_type": "stream",
     "text": [
      "cuda\n"
     ]
    }
   ],
   "source": [
    "#!g1.1\n",
    "device = torch.device(\"cuda\" if torch.cuda.is_available() else \"cpu\")\n",
    "print(device)"
   ]
  },
  {
   "cell_type": "markdown",
   "id": "3401943e",
   "metadata": {
    "cellId": "vczzub7l9ndpaei8ar8d7",
    "execution_id": "cd821ec5-63ad-46b6-bf69-f00a1a3d36d0"
   },
   "source": [
    "### Build model\n",
    "\n",
    "#### Define embedding size"
   ]
  },
  {
   "cell_type": "code",
   "execution_count": 71,
   "id": "849dbb18",
   "metadata": {
    "cellId": "yf5viefr9vfl4hm25435ph"
   },
   "outputs": [],
   "source": [
    "#!g1.1\n",
    "embedding_size = 128"
   ]
  },
  {
   "cell_type": "markdown",
   "id": "d94cce1f",
   "metadata": {
    "cellId": "4f42ys1so2e3wq6932oz5f",
    "execution_id": "31f6b371-94ae-400e-b70f-0ad9fcbe404e"
   },
   "source": [
    "Define model.\n",
    "Model structure is following:\n",
    "1. Resnet18 feature extractor\n",
    "2. Layer for embeddings"
   ]
  },
  {
   "cell_type": "code",
   "execution_count": 72,
   "id": "4f7b7120",
   "metadata": {
    "cellId": "7x85fmkjxnb3z68pil4kh"
   },
   "outputs": [
    {
     "name": "stderr",
     "output_type": "stream",
     "text": [
      "Downloading: \"https://download.pytorch.org/models/resnet18-f37072fd.pth\" to /tmp/xdg_cache/torch/hub/checkpoints/resnet18-f37072fd.pth\n"
     ]
    },
    {
     "data": {
      "application/vnd.jupyter.widget-view+json": {
       "model_id": "6ddf38a3a4004754bbaf854467a21bdd",
       "version_major": 2,
       "version_minor": 0
      },
      "text/plain": [
       "HBox(children=(HTML(value=''), FloatProgress(value=0.0, max=46830571.0), HTML(value='')))"
      ]
     },
     "metadata": {},
     "output_type": "display_data"
    },
    {
     "name": "stdout",
     "output_type": "stream",
     "text": [
      "\n"
     ]
    }
   ],
   "source": [
    "#!g1.1\n",
    "model = models.resnet18(pretrained=True)"
   ]
  },
  {
   "cell_type": "code",
   "execution_count": 73,
   "id": "1a940589",
   "metadata": {
    "cellId": "ktqjxsx5axd8t3d1thibp6"
   },
   "outputs": [],
   "source": [
    "#!g1.1\n",
    "embedding_layer_in_size = model.fc.in_features\n",
    "embedder = nn.Linear(embedding_layer_in_size, embedding_size)\n",
    "model.fc=embedder"
   ]
  },
  {
   "cell_type": "markdown",
   "id": "7253273d",
   "metadata": {
    "cellId": "slcxor8je1jalg8tlmrfpa",
    "execution_id": "8ba463e9-cd25-408c-a5ef-975a8342c18e"
   },
   "source": [
    "#### Define optimizer.  "
   ]
  },
  {
   "cell_type": "code",
   "execution_count": 102,
   "id": "69c38cff",
   "metadata": {
    "cellId": "kb4ngax2s1jul64nt1490e"
   },
   "outputs": [],
   "source": [
    "#!g1.1\n",
    "learning_rate = 1e-7\n",
    "weight_decay=0.0001"
   ]
  },
  {
   "cell_type": "code",
   "execution_count": 103,
   "id": "b791be13",
   "metadata": {
    "cellId": "c0khahvb7u6wwkt3ktcrnb"
   },
   "outputs": [],
   "source": [
    "#!g1.1\n",
    "\n",
    "embedder_optimizer = torch.optim.Adam(\n",
    "    model.parameters(), lr=learning_rate, weight_decay=weight_decay\n",
    ")"
   ]
  },
  {
   "cell_type": "markdown",
   "id": "254ab2af",
   "metadata": {
    "cellId": "bk7r1qn6ini4mm206zzkx4",
    "execution_id": "5d53cc72-cb02-4385-a5c9-2a1603760bc0"
   },
   "source": [
    "#### Define loss\n",
    "\n",
    "Here we use CircleLoss from https://arxiv.org/pdf/2002.10857.pdf"
   ]
  },
  {
   "cell_type": "code",
   "execution_count": 77,
   "id": "6d30e6c5",
   "metadata": {
    "cellId": "998lg3hirmpubeb3lz5w1h"
   },
   "outputs": [],
   "source": [
    "#!g1.1\n",
    "loss = losses.CircleLoss()"
   ]
  },
  {
   "cell_type": "markdown",
   "id": "46afeb35",
   "metadata": {
    "cellId": "y897zj90tzsmzcpapl57",
    "execution_id": "2f652205-39fd-4346-91c9-1c9bfc7e1e67"
   },
   "source": [
    "#### Define train and test procedures."
   ]
  },
  {
   "cell_type": "code",
   "execution_count": 78,
   "id": "2660dbde",
   "metadata": {
    "cellId": "c0nyd9o0raw6q6jk46iw2f"
   },
   "outputs": [],
   "source": [
    "#!g1.1\n",
    "def train(model, loss_func, mining_func, device, train_loader, optimizer, epoch):\n",
    "    model.train()\n",
    "    for batch_idx, (data, labels) in enumerate(train_loader):\n",
    "        data, labels = data.to(device), labels.to(device)\n",
    "        optimizer.zero_grad()\n",
    "        embeddings = model(data)\n",
    "        indices_tuple = mining_func(embeddings, labels)\n",
    "        loss = loss_func(embeddings, labels, indices_tuple)\n",
    "        loss.backward()\n",
    "        optimizer.step()\n",
    "        if batch_idx % 20 == 0:\n",
    "            print(\n",
    "                \"Epoch {} Iteration {}: Loss = {}\".format(\n",
    "                    epoch, batch_idx, loss#, mining_func.num_triplets\n",
    "                )\n",
    "            )\n",
    "\n"
   ]
  },
  {
   "cell_type": "code",
   "execution_count": 118,
   "id": "9613a314",
   "metadata": {
    "cellId": "g7hov35jq2fnaowr8v35l"
   },
   "outputs": [],
   "source": [
    "#!g1.1\n",
    "\n",
    "### convenient function from pytorch-metric-learning ###\n",
    "def get_all_embeddings(dataset, model):\n",
    "    tester = testers.BaseTester()\n",
    "    return tester.get_all_embeddings(dataset, model)\n",
    "\n",
    "\n",
    "### compute accuracy using AccuracyCalculator from pytorch-metric-learning ###\n",
    "def test(train_set, test_set,  model, accuracy_calculator):\n",
    "    train_embeddings, train_labels = get_all_embeddings(train_set, model)\n",
    "    test_embeddings, test_labels = get_all_embeddings(test_set, model)\n",
    "    train_labels = train_labels.squeeze(1)\n",
    "    test_labels = test_labels.squeeze(1)\n",
    "    print(\"Computing accuracy\")\n",
    "    accuracies = accuracy_calculator.get_accuracy(\n",
    "        test_embeddings, train_embeddings, test_labels, train_labels, False\n",
    "    )\n",
    "    print(\"Test set accuracy (Precision@1) = {}\".format(accuracies[\"precision_at_1\"]))\n",
    "    "
   ]
  },
  {
   "cell_type": "markdown",
   "id": "b5261af0",
   "metadata": {
    "cellId": "ce300k85kve479edrt3xq5",
    "execution_id": "71f501cf-2e02-4f50-bc91-400534e77473"
   },
   "source": [
    "#### Define batch size"
   ]
  },
  {
   "cell_type": "code",
   "execution_count": 80,
   "id": "10e8683d",
   "metadata": {
    "cellId": "v4y1ed5pmxrbpfp0y346xb"
   },
   "outputs": [],
   "source": [
    "#!g1.1\n",
    "batch_size=64"
   ]
  },
  {
   "cell_type": "markdown",
   "id": "9a560535",
   "metadata": {
    "cellId": "68pqxagfv7a7qzebp8567o",
    "execution_id": "5c84bdce-5140-4686-825b-138db4047bf7"
   },
   "source": [
    "#### Define data loaders"
   ]
  },
  {
   "cell_type": "code",
   "execution_count": 81,
   "id": "88bbe60d",
   "metadata": {
    "cellId": "v97cf4ukv7zn3rnams7or"
   },
   "outputs": [],
   "source": [
    "#!g1.1\n",
    "train_loader = torch.utils.data.DataLoader(\n",
    "    train_set, batch_size=batch_size, shuffle=True\n",
    ")\n",
    "test_loader = torch.utils.data.DataLoader(test_set, batch_size=batch_size)"
   ]
  },
  {
   "cell_type": "markdown",
   "id": "7ec5dd44",
   "metadata": {
    "cellId": "93bnmv6sy7trlx4wahcn1",
    "execution_id": "19dac6f7-a7af-4d96-949c-f128bc49572c"
   },
   "source": [
    "#### Define number of epochs "
   ]
  },
  {
   "cell_type": "code",
   "execution_count": 82,
   "id": "a03eeea0",
   "metadata": {
    "cellId": "1ufm75q02bfgqz1jb3yksd"
   },
   "outputs": [],
   "source": [
    "#!g1.1\n",
    "num_epochs = 5"
   ]
  },
  {
   "cell_type": "markdown",
   "id": "04ddce30",
   "metadata": {
    "cellId": "5mqej8v4new9re1i73hhzc",
    "execution_id": "c32aae94-ef3f-4fcb-8ca1-5f4b1fd49d5b"
   },
   "source": [
    "##### Define helpers from Pytorch metric learning packet.\n",
    "\n",
    "Here we use several helpers:\n",
    "* Cosine distance - to impicitly enforce cosine distance in embeddings by mining pairs for loss computation.\n",
    "* TripletMarginMiner - selects only triplets, which have some distance between positive-anchor and negative-anchor using cosine distance concordant with loss function. \n",
    "* MeanReducer - averages loss from each pair to provide global loss."
   ]
  },
  {
   "cell_type": "code",
   "execution_count": 83,
   "id": "7d3580f0",
   "metadata": {
    "cellId": "tr8o0vz1ky7omxyh0pw6q"
   },
   "outputs": [],
   "source": [
    "#!g1.1\n",
    "distance = distances.CosineSimilarity()\n",
    "reducer = reducers.AvgNonZeroReducer()\n",
    "mining_func = miners.TripletMarginMiner( distance =distance, type_of_triplets='hard')"
   ]
  },
  {
   "cell_type": "markdown",
   "id": "c676ea3e",
   "metadata": {
    "cellId": "6q5qyny2qnj8ln8sumjuqi",
    "execution_id": "ad56aa1d-03f3-4e8b-bea3-8959a2b24a9b"
   },
   "source": [
    "#### Declare accuracy calculator."
   ]
  },
  {
   "cell_type": "code",
   "execution_count": 84,
   "id": "427b8e5e",
   "metadata": {
    "cellId": "g4lkobvs8xdvs0gdn6xug"
   },
   "outputs": [],
   "source": [
    "#!g1.1\n",
    "accuracy_calculator = AccuracyCalculator(include=(\"precision_at_1\", \"AMI\"), k=1)"
   ]
  },
  {
   "cell_type": "markdown",
   "id": "72aad9d3",
   "metadata": {
    "cellId": "k5h3zd3c7te5mexakmnhsq",
    "execution_id": "511ed29b-2d02-4d2c-97dd-985ccad360f7"
   },
   "source": [
    "#### Push model to GPU."
   ]
  },
  {
   "cell_type": "code",
   "execution_count": 85,
   "id": "83f8556c",
   "metadata": {
    "cellId": "a9utuntvjuh0gs9037tlp8q"
   },
   "outputs": [],
   "source": [
    "#!g1.1\n",
    "model = model.to(device)"
   ]
  },
  {
   "cell_type": "code",
   "execution_count": 125,
   "id": "1284d794",
   "metadata": {
    "cellId": "aioc2u2942mua7dbnvneul"
   },
   "outputs": [
    {
     "data": {
      "application/vnd.jupyter.widget-view+json": {
       "model_id": "179f4b76d963463f82e717c5c2a663fe",
       "version_major": 2,
       "version_minor": 0
      },
      "text/plain": [
       "HBox(children=(HTML(value=''), FloatProgress(value=0.0, max=200.0), HTML(value='')))"
      ]
     },
     "metadata": {},
     "output_type": "display_data"
    },
    {
     "name": "stdout",
     "output_type": "stream",
     "text": [
      "\n",
      "Learning rate search finished. See the graph with {finder_name}.plot()\n",
      "LR suggestion: steepest gradient\n",
      "Suggested LR: 1.71E-03\n"
     ]
    },
    {
     "data": {
      "image/png": "[encoded data removed]",
      "text/plain": [
       "<Figure size 432x288 with 1 Axes>"
      ]
     },
     "metadata": {
      "needs_background": "light"
     },
     "output_type": "display_data"
    }
   ],
   "source": [
    "#!g1.1\n",
    "lr_finder = LRFinder(model, embedder_optimizer, loss, device=device)\n",
    "range_test_result = lr_finder.range_test(train_loader, start_lr=1e-10, end_lr=1e-2, num_iter=500, step_mode='linear')\n",
    "lr_finder.plot() # to inspect the loss-learning rate graph\n",
    "lr_finder.reset() # to reset the model and optimizer to their initial state"
   ]
  },
  {
   "cell_type": "code",
   "execution_count": 126,
   "id": "c7df84a0",
   "metadata": {
    "cellId": "12ja49ad9qf4oq8cw4t4yl"
   },
   "outputs": [],
   "source": [
    "#!g1.1\n",
    "lrs = lr_finder.history['lr']\n",
    "losses = lr_finder.history['loss']\n",
    "learning_rate =lrs[np.argmin(losses)]"
   ]
  },
  {
   "cell_type": "code",
   "execution_count": 133,
   "id": "571684ea",
   "metadata": {
    "cellId": "6lgmjqardubyhwg5zuj59"
   },
   "outputs": [],
   "source": [
    "#!g1.1\n",
    "learning_rate = 1e-4"
   ]
  },
  {
   "cell_type": "markdown",
   "id": "cd4668f2",
   "metadata": {
    "cellId": "ll1dc0gvl8r99oey0cr1",
    "execution_id": "b168d1aa-288f-43cf-acef-6c5845ff7880"
   },
   "source": [
    "New learning rate based on LRFinder and reinit optimizer."
   ]
  },
  {
   "cell_type": "code",
   "execution_count": 134,
   "id": "dbb69ae1",
   "metadata": {
    "cellId": "rkwvochjinm34v58rgyr8"
   },
   "outputs": [],
   "source": [
    "#!g1.1\n",
    "embedder_optimizer  = torch.optim.Adam(\n",
    "    model.parameters(), lr=learning_rate, weight_decay=weight_decay\n",
    ")\n",
    "\n",
    "scheduler = torch.optim.lr_scheduler.StepLR(optimizer=embedder_optimizer,\n",
    "                                            step_size=10, gamma=0.1)"
   ]
  },
  {
   "cell_type": "markdown",
   "id": "e72e95aa",
   "metadata": {
    "cellId": "3x0fv0m2ggoo09hd5u4hw",
    "execution_id": "d01ad953-8274-4ac2-ad9c-d7b752fd9b07"
   },
   "source": [
    "#### Train model"
   ]
  },
  {
   "cell_type": "code",
   "execution_count": 135,
   "id": "f9a30a24",
   "metadata": {
    "cellId": "v6bbj8fe4m8t8w4mrw4lv"
   },
   "outputs": [
    {
     "name": "stderr",
     "output_type": "stream",
     "text": [
      "100%|██████████| 903/903 [03:39<00:00,  4.11it/s]\n",
      "100%|██████████| 49/49 [00:12<00:00,  3.96it/s]\n",
      "WARNING clustering 1546 points to 60 centroids: please provide at least 2340 training points\n",
      "100%|██████████| 903/903 [03:40<00:00,  4.10it/s]\n",
      "100%|██████████| 49/49 [00:12<00:00,  4.08it/s]\n",
      "WARNING clustering 1546 points to 60 centroids: please provide at least 2340 training points\n",
      "100%|██████████| 903/903 [03:40<00:00,  4.10it/s]\n",
      "100%|██████████| 49/49 [00:11<00:00,  4.23it/s]\n",
      "WARNING clustering 1546 points to 60 centroids: please provide at least 2340 training points\n",
      "100%|██████████| 903/903 [03:42<00:00,  4.07it/s]\n",
      "100%|██████████| 49/49 [00:11<00:00,  4.15it/s]\n",
      "WARNING clustering 1546 points to 60 centroids: please provide at least 2340 training points\n",
      "100%|██████████| 903/903 [03:42<00:00,  4.06it/s]\n",
      "100%|██████████| 49/49 [00:12<00:00,  3.91it/s]\n",
      "WARNING clustering 1546 points to 60 centroids: please provide at least 2340 training points\n"
     ]
    },
    {
     "name": "stdout",
     "output_type": "stream",
     "text": [
      "Epoch 1 Iteration 0: Loss = 58.478302001953125\n",
      "Epoch 1 Iteration 20: Loss = 58.05998992919922\n",
      "Epoch 1 Iteration 40: Loss = 58.303245544433594\n",
      "Epoch 1 Iteration 60: Loss = 57.9961051940918\n",
      "Epoch 1 Iteration 80: Loss = 58.47608184814453\n",
      "Epoch 1 Iteration 100: Loss = 58.2823600769043\n",
      "Epoch 1 Iteration 120: Loss = 58.17644119262695\n",
      "Epoch 1 Iteration 140: Loss = 58.41024398803711\n",
      "Epoch 1 Iteration 160: Loss = 58.20237350463867\n",
      "Epoch 1 Iteration 180: Loss = 58.05975341796875\n",
      "Epoch 1 Iteration 200: Loss = 58.419185638427734\n",
      "Epoch 1 Iteration 220: Loss = 58.19075393676758\n",
      "Epoch 1 Iteration 240: Loss = 57.9739875793457\n",
      "Epoch 1 Iteration 260: Loss = 58.466705322265625\n",
      "Epoch 1 Iteration 280: Loss = 58.43385314941406\n",
      "Epoch 1 Iteration 300: Loss = 58.161468505859375\n",
      "Epoch 1 Iteration 320: Loss = 58.52412796020508\n",
      "Epoch 1 Iteration 340: Loss = 58.25364303588867\n",
      "Epoch 1 Iteration 360: Loss = 58.340293884277344\n",
      "Epoch 1 Iteration 380: Loss = 58.45124053955078\n",
      "Epoch 1 Iteration 400: Loss = 58.508087158203125\n",
      "Epoch 1 Iteration 420: Loss = 58.56850051879883\n",
      "Epoch 1 Iteration 440: Loss = 58.34585952758789\n",
      "Computing accuracy\n",
      "Test set accuracy (Precision@1) = 0.014230271668822769\n",
      "Epoch 2 Iteration 0: Loss = 58.42122268676758\n",
      "Epoch 2 Iteration 20: Loss = 58.53887939453125\n",
      "Epoch 2 Iteration 40: Loss = 58.505592346191406\n",
      "Epoch 2 Iteration 60: Loss = 58.3867301940918\n",
      "Epoch 2 Iteration 80: Loss = 58.43088912963867\n",
      "Epoch 2 Iteration 100: Loss = 58.49162292480469\n",
      "Epoch 2 Iteration 120: Loss = 58.25469207763672\n",
      "Epoch 2 Iteration 140: Loss = 58.62154769897461\n",
      "Epoch 2 Iteration 160: Loss = 58.106834411621094\n",
      "Epoch 2 Iteration 180: Loss = 58.208290100097656\n",
      "Epoch 2 Iteration 200: Loss = 58.2252082824707\n",
      "Epoch 2 Iteration 220: Loss = 58.529151916503906\n",
      "Epoch 2 Iteration 240: Loss = 58.23465347290039\n",
      "Epoch 2 Iteration 260: Loss = 58.43788146972656\n",
      "Epoch 2 Iteration 280: Loss = 58.11613845825195\n",
      "Epoch 2 Iteration 300: Loss = 58.765933990478516\n",
      "Epoch 2 Iteration 320: Loss = 58.461849212646484\n",
      "Epoch 2 Iteration 340: Loss = 57.79607009887695\n",
      "Epoch 2 Iteration 360: Loss = 58.352115631103516\n",
      "Epoch 2 Iteration 380: Loss = 58.287681579589844\n",
      "Epoch 2 Iteration 400: Loss = 58.1632080078125\n",
      "Epoch 2 Iteration 420: Loss = 58.12205123901367\n",
      "Epoch 2 Iteration 440: Loss = 58.29179000854492\n",
      "Computing accuracy\n",
      "Test set accuracy (Precision@1) = 0.013583441138421734\n",
      "Epoch 3 Iteration 0: Loss = 58.28147506713867\n",
      "Epoch 3 Iteration 20: Loss = 58.62897491455078\n",
      "Epoch 3 Iteration 40: Loss = 58.54262161254883\n",
      "Epoch 3 Iteration 60: Loss = 58.6197624206543\n",
      "Epoch 3 Iteration 80: Loss = 58.380859375\n",
      "Epoch 3 Iteration 100: Loss = 58.15688705444336\n",
      "Epoch 3 Iteration 120: Loss = 57.8967170715332\n",
      "Epoch 3 Iteration 140: Loss = 58.34625244140625\n",
      "Epoch 3 Iteration 160: Loss = 58.26618576049805\n",
      "Epoch 3 Iteration 180: Loss = 58.368045806884766\n",
      "Epoch 3 Iteration 200: Loss = 58.503658294677734\n",
      "Epoch 3 Iteration 220: Loss = 58.21119689941406\n",
      "Epoch 3 Iteration 240: Loss = 58.239566802978516\n",
      "Epoch 3 Iteration 260: Loss = 58.69032669067383\n",
      "Epoch 3 Iteration 280: Loss = 58.23652648925781\n",
      "Epoch 3 Iteration 300: Loss = 58.387168884277344\n",
      "Epoch 3 Iteration 320: Loss = 58.369789123535156\n",
      "Epoch 3 Iteration 340: Loss = 58.42543411254883\n",
      "Epoch 3 Iteration 360: Loss = 58.271060943603516\n",
      "Epoch 3 Iteration 380: Loss = 58.203330993652344\n",
      "Epoch 3 Iteration 400: Loss = 58.193397521972656\n",
      "Epoch 3 Iteration 420: Loss = 58.188209533691406\n",
      "Epoch 3 Iteration 440: Loss = 58.32622528076172\n",
      "Computing accuracy\n",
      "Test set accuracy (Precision@1) = 0.00905562742561449\n",
      "Epoch 4 Iteration 0: Loss = 58.75523376464844\n",
      "Epoch 4 Iteration 20: Loss = 58.369930267333984\n",
      "Epoch 4 Iteration 40: Loss = 58.203712463378906\n",
      "Epoch 4 Iteration 60: Loss = 58.09071350097656\n",
      "Epoch 4 Iteration 80: Loss = 58.4062614440918\n",
      "Epoch 4 Iteration 100: Loss = 58.1248779296875\n",
      "Epoch 4 Iteration 120: Loss = 57.86392593383789\n",
      "Epoch 4 Iteration 140: Loss = 58.45794677734375\n",
      "Epoch 4 Iteration 160: Loss = 58.55810546875\n",
      "Epoch 4 Iteration 180: Loss = 58.133811950683594\n",
      "Epoch 4 Iteration 200: Loss = 58.26163101196289\n",
      "Epoch 4 Iteration 220: Loss = 58.45614242553711\n",
      "Epoch 4 Iteration 240: Loss = 58.390254974365234\n",
      "Epoch 4 Iteration 260: Loss = 58.46223068237305\n",
      "Epoch 4 Iteration 280: Loss = 58.26557540893555\n",
      "Epoch 4 Iteration 300: Loss = 58.41677474975586\n",
      "Epoch 4 Iteration 320: Loss = 58.28499984741211\n",
      "Epoch 4 Iteration 340: Loss = 57.9986457824707\n",
      "Epoch 4 Iteration 360: Loss = 58.698974609375\n",
      "Epoch 4 Iteration 380: Loss = 58.41081237792969\n",
      "Epoch 4 Iteration 400: Loss = 58.46537399291992\n",
      "Epoch 4 Iteration 420: Loss = 58.2205924987793\n",
      "Epoch 4 Iteration 440: Loss = 58.412864685058594\n",
      "Computing accuracy\n",
      "Test set accuracy (Precision@1) = 0.012289780077619664\n",
      "Epoch 5 Iteration 0: Loss = 58.191978454589844\n",
      "Epoch 5 Iteration 20: Loss = 58.48891830444336\n",
      "Epoch 5 Iteration 40: Loss = 58.3787956237793\n",
      "Epoch 5 Iteration 60: Loss = 58.530906677246094\n",
      "Epoch 5 Iteration 80: Loss = 58.354705810546875\n",
      "Epoch 5 Iteration 100: Loss = 58.192848205566406\n",
      "Epoch 5 Iteration 120: Loss = 58.0202751159668\n",
      "Epoch 5 Iteration 140: Loss = 58.79857635498047\n",
      "Epoch 5 Iteration 160: Loss = 58.49296569824219\n",
      "Epoch 5 Iteration 180: Loss = 58.4338493347168\n",
      "Epoch 5 Iteration 200: Loss = 58.164527893066406\n",
      "Epoch 5 Iteration 220: Loss = 57.99186325073242\n",
      "Epoch 5 Iteration 240: Loss = 58.31108093261719\n",
      "Epoch 5 Iteration 260: Loss = 58.207645416259766\n",
      "Epoch 5 Iteration 280: Loss = 58.479759216308594\n",
      "Epoch 5 Iteration 300: Loss = 58.649879455566406\n",
      "Epoch 5 Iteration 320: Loss = 58.34850311279297\n",
      "Epoch 5 Iteration 340: Loss = 59.009613037109375\n",
      "Epoch 5 Iteration 360: Loss = 58.419742584228516\n",
      "Epoch 5 Iteration 380: Loss = 58.48649597167969\n",
      "Epoch 5 Iteration 400: Loss = 58.25914001464844\n",
      "Epoch 5 Iteration 420: Loss = 58.38304901123047\n",
      "Epoch 5 Iteration 440: Loss = 58.51047134399414\n",
      "Computing accuracy\n",
      "Test set accuracy (Precision@1) = 0.018758085381630013\n"
     ]
    }
   ],
   "source": [
    "#!g1.1\n",
    "for epoch in range(1, num_epochs + 1):\n",
    "    train(model, loss, mining_func, device, train_loader, embedder_optimizer, epoch)\n",
    "    test(train_set, test_set, model, accuracy_calculator)\n",
    "    scheduler.step()\n",
    "    "
   ]
  },
  {
   "cell_type": "markdown",
   "id": "2a787783",
   "metadata": {
    "cellId": "o6sqilg18fbce4ftt6c2mf",
    "execution_id": "223b75e5-0d48-4843-840e-6cbbe6ab7d0d"
   },
   "source": [
    "Precision@1(how many closest points are correct) is not impressive! But dont be desperate. It is slowly learning and dataset is full of quirks.\n",
    "\n",
    "Precision@1 is not very informative metric in terms of end \n"
   ]
  },
  {
   "cell_type": "markdown",
   "id": "7cb3250f",
   "metadata": {
    "cellId": "gduthmsdr8658cged6o7ok",
    "execution_id": "3d3c9fb2-c292-4e92-a86f-b516c8d18864"
   },
   "source": [
    "## Time to save model to onnx runtime "
   ]
  },
  {
   "cell_type": "markdown",
   "id": "64c4ef56",
   "metadata": {
    "cellId": "zwty7rysrfm2ehtmyt9kv3",
    "execution_id": "589dfe4d-cdb7-4874-bef9-aa1bc299f2d7"
   },
   "source": [
    "Model will appear under name `embedder.onnx`. "
   ]
  },
  {
   "cell_type": "code",
   "execution_count": 142,
   "id": "45ca2ae5",
   "metadata": {
    "cellId": "qd7rvk9763hv10atduymu"
   },
   "outputs": [],
   "source": [
    "x = torch.randn(1, 3, input_img_size[0], input_img_size[1], requires_grad=True) #sample input\n",
    "torch.onnx.export(\n",
    "    model.to('cpu'), \n",
    "    x,\n",
    "    'embedder.onnx',\n",
    "    export_params=True,\n",
    "    do_constant_folding=True,\n",
    "input_names = ['input'],   # the model's input names\n",
    "                  output_names = ['output'], # the model's output names\n",
    "                  dynamic_axes={'input' : {0 : 'batch_size'},    # variable length axes\n",
    "                                'output' : {0 : 'batch_size'}})"
   ]
  }
 ],
 "metadata": {
  "language_info": {
   "codemirror_mode": {
    "name": "ipython",
    "version": 3
   },
   "file_extension": ".py",
   "mimetype": "text/x-python",
   "name": "python",
   "nbconvert_exporter": "python",
   "pygments_lexer": "ipython3",
   "version": "3.7.7"
  },
  "notebookId": "347267d8-8863-4f96-ba46-3de62067017f",
  "notebookPath": "ClassifierBaseline.ipynb"
 },
 "nbformat": 4,
 "nbformat_minor": 5
}
